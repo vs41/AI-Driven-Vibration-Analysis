{
 "cells": [
  {
   "cell_type": "code",
   "execution_count": 8,
   "metadata": {},
   "outputs": [],
   "source": [
    "import cv2\n",
    "import numpy as np\n",
    "import matplotlib.pyplot as plt\n",
    "import time\n",
    "import random"
   ]
  },
  {
   "cell_type": "code",
   "execution_count": 11,
   "metadata": {},
   "outputs": [
    {
     "name": "stdout",
     "output_type": "stream",
     "text": [
      "Image loaded successfully.\n",
      "30.22094386487829\n"
     ]
    }
   ],
   "source": [
    "# Load an image from file\n",
    "image = cv2.imread('images.jpg')  # Replace 'path/to/your/image.jpg' with the path to your image file\n",
    "\n",
    "# Check if the image was loaded successfully\n",
    "if image is None:\n",
    "    print(\"Error: Unable to load image.\")\n",
    "else:\n",
    "    print(\"Image loaded successfully.\")\n",
    "    # Further processing or display of the image can be done here\n",
    "    # Convert the frame to grayscale\n",
    "    gray1 = cv2.cvtColor(image, cv2.COLOR_BGR2GRAY)\n",
    "    # Apply CLAHE to the grayscale fram\n",
    "    gray = cv2.GaussianBlur(gray1,(5,5), 1)\n",
    "    mse = np.mean(( gray- gray1) ** 2)\n",
    "    print(mse)\n",
    "    cv2.imshow('Optical Flow', gray)\n",
    "    # Save the denoised image\n",
    "    cv2.imwrite('denoised_image_Gaussian.jpg', gray)\n",
    "\n",
    "cv2.destroyAllWindows()"
   ]
  },
  {
   "cell_type": "code",
   "execution_count": 13,
   "metadata": {},
   "outputs": [
    {
     "name": "stdout",
     "output_type": "stream",
     "text": [
      "Image loaded successfully.\n",
      "17.246000993541976\n"
     ]
    }
   ],
   "source": [
    "import cv2\n",
    "import numpy as np\n",
    "\n",
    "# Function for self guided filter\n",
    "def self_guided_filter(image, radius, epsilon):\n",
    "    mean_I = cv2.boxFilter(image, -1, (radius, radius))\n",
    "    mean_II = cv2.boxFilter(image * image, -1, (radius, radius))\n",
    "    covariance_I = mean_II - mean_I * mean_I\n",
    "\n",
    "    a = covariance_I / (covariance_I + epsilon)\n",
    "    b = mean_I - a * mean_I\n",
    "\n",
    "    mean_a = cv2.boxFilter(a, -1, (radius, radius))\n",
    "    mean_b = cv2.boxFilter(b, -1, (radius, radius))\n",
    "\n",
    "    return mean_a * image + mean_b\n",
    "\n",
    "# Load an image from file\n",
    "image = cv2.imread('images.jpg')\n",
    "\n",
    "# Check if the image was loaded successfully\n",
    "if image is None:\n",
    "    print(\"Error: Unable to load image.\")\n",
    "else:\n",
    "    print(\"Image loaded successfully.\")\n",
    "\n",
    "    # Convert the image to float32 for processing\n",
    "    noisy_image = image.astype(np.float32) / 255.0\n",
    "\n",
    "    # Set parameters for the self-guided filter\n",
    "    radius = 5\n",
    "    epsilon = 0.003\n",
    "\n",
    "    # Apply the self-guided filter for denoising\n",
    "    denoised_image = self_guided_filter(noisy_image, radius, epsilon)\n",
    "\n",
    "    # Convert the denoised image back to uint8 and correct color format for display\n",
    "    denoised_image_uint8 = (denoised_image * 255).astype(np.uint8)\n",
    "    gray = cv2.cvtColor(denoised_image_uint8, cv2.COLOR_BGR2GRAY)\n",
    "    # Save the denoised image\n",
    "    cv2.imwrite('denoised_image_self.jpg', gray)\n",
    "    # Display the denoised image\n",
    "    cv2.imshow('Denoised Image', gray )\n",
    "    #cv2.waitKey(0)  # Wait indefinitely until a key is pressed\n",
    "     # Compute mean squared error (MSE)\n",
    "    mse = np.mean((gray - cv2.cvtColor(image, cv2.COLOR_BGR2GRAY)) ** 2)\n",
    "    print(mse)\n",
    "    cv2.destroyAllWindows()  # Close all OpenCV windows"
   ]
  }
 ],
 "metadata": {
  "kernelspec": {
   "display_name": "Python 3",
   "language": "python",
   "name": "python3"
  },
  "language_info": {
   "codemirror_mode": {
    "name": "ipython",
    "version": 3
   },
   "file_extension": ".py",
   "mimetype": "text/x-python",
   "name": "python",
   "nbconvert_exporter": "python",
   "pygments_lexer": "ipython3",
   "version": "3.11.4"
  }
 },
 "nbformat": 4,
 "nbformat_minor": 2
}
